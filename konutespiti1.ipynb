{
  "nbformat": 4,
  "nbformat_minor": 0,
  "metadata": {
    "colab": {
      "provenance": [],
      "authorship_tag": "ABX9TyOsO2RMArJ93Fhgg1uV6EQv",
      "include_colab_link": true
    },
    "kernelspec": {
      "name": "python3",
      "display_name": "Python 3"
    },
    "language_info": {
      "name": "python"
    }
  },
  "cells": [
    {
      "cell_type": "markdown",
      "metadata": {
        "id": "view-in-github",
        "colab_type": "text"
      },
      "source": [
        "<a href=\"https://colab.research.google.com/github/nezaketokur/konutespitii/blob/main/konutespiti1.ipynb\" target=\"_parent\"><img src=\"https://colab.research.google.com/assets/colab-badge.svg\" alt=\"Open In Colab\"/></a>"
      ]
    },
    {
      "cell_type": "code",
      "execution_count": 1,
      "metadata": {
        "colab": {
          "base_uri": "https://localhost:8080/"
        },
        "id": "bUkeIBZPtBEN",
        "outputId": "20a366c5-0cf1-4606-d9bf-b9f36b474157"
      },
      "outputs": [
        {
          "output_type": "stream",
          "name": "stdout",
          "text": [
            "Bulunan konu: Spor\n"
          ]
        }
      ],
      "source": [
        "# konu_tespiti.py\n",
        "\n",
        "def konu_tespit(text):\n",
        "    # Her konu başlığına özgü genişletilmiş anahtar kelimeler\n",
        "    konular = {\n",
        "       \"Siyaset\": [\"anayasa\", \"demokrasi\", \"bürokrasi\", \"seçim\", \"koalisyon\", \"parlamento\", \"meclis\", \"devlet\", \"başkanlık sistemi\", \"bakanlık\", \"politikacılar\", \"yasama\", \"yürütme\", \"yargı\", \"referandum\", \"diplomasi\", \"ittifak\", \"faşizm\", \"liberalizm\", \"milliyetçilik\", \"anarşizm\", \"komünizm\", \"sosyalizm\", \"otorite\", \"hükümet\", \"muhalefet\", \"halk\", \"anayasal monarşi\", \"bağımsızlık\", \"bireysel haklar\", \"halk iradesi\", \"federalizm\", \"otonomi\", \"uluslararası ilişkiler\", \"toplum\", \"medya\", \"hakimiyet\", \"ulus devlet\", \"toplumsal hareket\", \"siyasi parti\", \"yerel yönetim\", \"sendika\", \"liberaller\", \"muhafazakârlar\", \"sol kanat\", \"sağ kanat\", \"anayasal haklar\", \"demokrasi\", \"dış politika\", \"yerel seçimler\", \"ideoloji\", \"devrim\", \"egemenlik\", \"parti lideri\", \"manifesto\", \"yolsuzluk\", \"kamuoyu\", \"politik analiz\", \"lobicilik\", \"seçmen\", \"birlik\", \"askeri güç\", \"konjonktür\", \"devlet bütçesi\", \"yargı bağımsızlığı\", \"yasama gücü\", \"siyasi kriz\", \"milli egemenlik\", \"anayasal düzen\", \"suikast\", \"devlet adamı\", \"milletvekili\", \"dış ilişkiler\", \"yerinden yönetim\", \"uluslararası hukuk\", \"diktatör\", \"kral\", \"hak\", \"bağımsızlık bildirgesi\", \"uluslararası antlaşma\", \"idari reform\", \"diplomatik\", \"egemen\", \"devlet başkanı\", \"parti programı\", \"güvenlik\", \"iktidar\", \"anayasa mahkemesi\", \"asli unsur\", \"vatandaşlık\", \"kozmopolit\", \"anayasal güvence\", \"meşruiyet\", \"politik etki\", \"medeni haklar\", \"liderlik\", \"genel seçim\"]\n",
        ",\n",
        "        \"Teknoloji\": [\"algoritma\", \"API\", \"uygulama\", \"yapay zeka\", \"kimlik doğrulama\", \"otomasyon\", \"yedekleme\", \"bant genişliği\", \"büyük veri\", \"biyometrik\", \"blok zinciri\", \"tarayıcı\", \"hata (bug)\", \"önbellek\", \"bulut bilişim\", \"kod\", \"sıkıştırma\", \"bilgisayarla görme\", \"çerez\", \"işlemci (CPU)\", \"kripto para\", \"siber güvenlik\", \"veri madenciliği\", \"veri bilimi\", \"veritabanı\", \"hata ayıklama\", \"derin öğrenme\", \"DNS\", \"şifreleme\", \"güvenlik duvarı\", \"donanım yazılımı\", \"ön yüz\", \"geçit\", \"Git\", \"grafik işleme birimi (GPU)\", \"grafik arayüz\", \"hacker\", \"HTML\", \"HTTP\", \"Nesnelerin İnterneti (IoT)\", \"IP adresi\", \"JavaScript\", \"çekirdek (kernel)\", \"gecikme (latency)\", \"makine öğrenimi\", \"kötü amaçlı yazılım (malware)\", \"mikro hizmetler\", \"mobil uygulama\", \"çoklu iş parçacığı\", \"ağ\", \"sinir ağı\", \"düğüm (node)\", \"NoSQL\", \"nesneye yönelik programlama\", \"açık kaynak\", \"işletim sistemi\", \"veri paketi\", \"parola\", \"yama\", \"oltalama (phishing)\", \"piksel\", \"platform\", \"eklenti (plugin)\", \"protokol\", \"Python\", \"sorgu\", \"RAM\", \"tepkisel programlama\", \"depo (repository)\", \"REST\", \"yönlendirici (router)\", \"ölçeklenebilirlik\", \"betik (script)\", \"yazılım geliştirme kiti (SDK)\", \"SEO\", \"sunucu\", \"sosyal medya\", \"yazılım\", \"kaynak kodu\", \"SQL\", \"SSL\", \"depolama\", \"sözdizimi (syntax)\", \"TCP/IP\", \"jeton (token)\", \"URL\", \"kullanıcı arayüzü\", \"kullanıcı deneyimi tasarımı (UX)\", \"sürüm kontrolü\", \"sanallaştırma makinesi\", \"sanal gerçeklik\", \"VPN\", \"web uygulaması\", \"web barındırma\", \"Wi-Fi\", \"XML\", \"zip dosyası\", \"sıfır gün açığı\", \"Bluetooth\", \"bulut depolama\", \"dijital imza\", \"uç bilişim\", \"güvenlik duvarı\", \"coğrafi etiketleme\", \"hashing\", \"hibrit bulut\", \"IoT analizleri\"]\n",
        ",\n",
        "        \"Spor\": [\"antrenman\", \"koç\", \"rekor\", \"müsabaka\", \"doping\", \"spor salonu\", \"hakem\", \"oyuncu\", \"taraftar\", \"kondisyon\", \"şampiyona\", \"final\", \"yarı final\", \"oyun kurucu\", \"forvet\", \"kaleci\", \"maç\", \"skor\", \"lig\", \"transfer\", \"savunma\", \"hücum\", \"takım\", \"asist\", \"serbest atış\", \"pas\", \"top\", \"gol\", \"sarı kart\", \"kırmızı kart\", \"antrenör\", \"oyun planı\", \"deplasman\", \"penaltı\", \"faul\", \"korner\", \"çeyrek final\", \"antrenman programı\", \"rakip\", \"puan\", \"rekabet\", \"oyuncu değişikliği\", \"saha\", \"çalışma\", \"ısınma\", \"ilk yarı\", \"ikinci yarı\", \"turnuva\", \"rekabet\", \"şampiyon\", \"seremoni\", \"maraton\", \"stil\", \"hız\", \"çizgi hakemi\", \"zaman\", \"set\", \"disk\", \"toplantı\", \"fiziksel kondisyon\", \"form\", \"basket\", \"slam dunk\", \"teknik direktör\", \"taktik\", \"spor psikolojisi\", \"vuruş\", \"başlama vuruşu\", \"raket\", \"atış\", \"seri\", \"çekişme\", \"mola\", \"idman\", \"geçiş\", \"dizilim\", \"performans\", \"ofans\", \"kondisyoner\", \"strateji\", \"kombinasyon\", \"organizasyon\", \"zorlu\", \"dinamik\", \"stadyum\", \"alan\", \"şut\", \"gelişim\", \"eğitmen\", \"saha dışı\", \"oyun süresi\", \"takım ruhu\", \"sürat\", \"golcü\", \"rakip analizi\", \"atak\"]\n",
        ",\n",
        "        \"Sağlık\": [\"check-up\", \"aşı\", \"antikor\", \"bağışıklık\", \"kanser\", \"tedavi\", \"teşhis\", \"diyabet\", \"epidemiyoloji\", \"ilaç\", \"enfeksiyon\", \"grip\", \"covid-19\", \"karantina\", \"bulaşıcı hastalık\", \"hipertansiyon\", \"kan basıncı\", \"kalp krizi\", \"obezite\", \"doktor\", \"hastane\", \"hemşire\", \"cerrah\", \"randevu\", \"psikoloji\", \"fizyoterapi\", \"sağlık sigortası\", \"hijyen\", \"depresyon\", \"psikiyatri\", \"nöroloji\", \"genetik\", \"biyopsi\", \"check-up\", \"kan testi\", \"tansiyon ölçme\", \"hormon\", \"metabolizma\", \"akciğer\", \"beyin\", \"sinir sistemi\", \"kas\", \"kilo\", \"diyet\", \"beslenme\", \"kardiyoloji\", \"ortopedi\", \"onkoloji\", \"uzman doktor\", \"tahlil\", \"kan tahlili\", \"antibiyotik\", \"antiseptik\", \"insülin\", \"vücut kitle indeksi\", \"tansiyon\", \"değerlendirme\", \"narkoz\", \"tarama testi\", \"ultrason\", \"genel cerrahi\", \"protez\", \"kan şekeri\", \"kolesterol\", \"check-up\", \"EKG\", \"MR\", \"BT taraması\", \"immünoloji\", \"sağlık kontrolü\", \"solunum\", \"anestezi\", \"solunum cihazı\", \"konsültasyon\", \"sosyal mesafe\", \"sağlık çalışanı\", \"yan etki\", \"epidemik\", \"enfeksiyon önleme\", \"biyopsi\", \"kanser taraması\", \"damar\", \"klinik\", \"sağlık merkezi\", \"hemoglobin\", \"alergi\", \"idrar tahlili\", \"aile hekimi\", \"halk sağlığı\", \"sağlık politikası\", \"akciğer kapasitesi\", \"taburcu\", \"tedavi süreci\"]\n",
        ",\n",
        "        \"Eğlence\": [\"sinema\", \"film\", \"dizi\", \"bilet\", \"komedi\", \"dram\", \"korku\", \"gerilim\", \"festival\", \"müzik\", \"konser\", \"tiyatro\", \"sahne\", \"aktör\", \"aktris\", \"oyuncu\", \"sinematografi\", \"yönetmen\", \"film yapımcısı\", \"senaryo\", \"oyun\", \"grafik\", \"animasyon\", \"sanat\", \"çekim\", \"klip\", \"albüm\", \"şarkı\", \"şarkıcı\", \"piyano\", \"gitar\", \"davul\", \"dans\", \"koreografi\", \"yayın\", \"medya\", \"set\", \"kamera\", \"kurgu\", \"montaj\", \"video\", \"TV\", \"radyo\", \"akustik\", \"klasik müzik\", \"opera\", \"bale\", \"festival\", \"prömiyer\", \"şov\", \"sanatçı\", \"televizyon dizisi\", \"müzikal\", \"belgesel\", \"sosyal medya\", \"gece hayatı\", \"komedi filmi\", \"aksiyon\", \"eleştiri\", \"oyun konsolu\", \"çekim senaryosu\", \"ağır dram\", \"yan karakter\", \"rol\", \"başrol\", \"dublör\", \"görsel efekt\", \"film müziği\", \"aranje\", \"performans\", \"kısa film\", \"uzun metraj\", \"seans\", \"tiyatro gösterisi\", \"stand-up\", \"komedyen\", \"sezon finali\", \"dublaj\", \"fragman\", \"baskı\", \"sanat koleksiyonu\", \"sanat galerisi\", \"sanal gerçeklik\", \"realite\", \"dizi sezonu\", \"kamera arkası\", \"oyun karakteri\", \"ses sistemi\", \"müze\", \"klasik film\", \"prodüksiyon\"]\n",
        ",\n",
        "    }\n",
        "\n",
        "    # Her konu başlığı için puanlama yap\n",
        "    puanlar = {konu: 0 for konu in konular.keys()}\n",
        "\n",
        "    # Metindeki kelimeleri konu başlıkları ile karşılaştır\n",
        "    for kelime in text.lower().split():\n",
        "        for konu, anahtar_kelimeler in konular.items():\n",
        "            if kelime in anahtar_kelimeler:\n",
        "                puanlar[konu] += 1  # Her geçen kelime için ilgili konuya +1 puan\n",
        "\n",
        "    # En yüksek puanı alan konuyu belirle\n",
        "    bulunan_konu = max(puanlar, key=puanlar.get)\n",
        "    return bulunan_konu if puanlar[bulunan_konu] > 0 else \"Diğer konular\"\n",
        "\n",
        "# Örnek kullanım\n",
        "if __name__ == \"__main__\":\n",
        "    text = \"Futbol turnuvasında takımın şampiyon olması büyük bir başarı olarak görülüyor.\"\n",
        "    print(\"Bulunan konu:\", konu_tespit(text))"
      ]
    }
  ]
}